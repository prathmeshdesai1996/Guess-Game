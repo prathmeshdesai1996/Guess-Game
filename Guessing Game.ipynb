{
 "cells": [
  {
   "cell_type": "code",
   "execution_count": 1,
   "id": "2e216b3b",
   "metadata": {},
   "outputs": [],
   "source": [
    "from random import shuffle\n",
    "from IPython.display import clear_output as clr"
   ]
  },
  {
   "cell_type": "code",
   "execution_count": 2,
   "id": "60e47676",
   "metadata": {},
   "outputs": [],
   "source": [
    "def shuffle_list(game_list):\n",
    "    shuffle(game_list)\n",
    "    return game_list"
   ]
  },
  {
   "cell_type": "code",
   "execution_count": 3,
   "id": "fd405be0",
   "metadata": {},
   "outputs": [],
   "source": [
    "def user_input():\n",
    "    user_guess = input('Pick a position - A,B or C : ').lower()\n",
    "    while user_guess not in ['a','b','c']:\n",
    "        clr()\n",
    "        print('Invalid input')\n",
    "        user_guess = input('Pick a position - A,B or C : ').lower()\n",
    "    return user_guess"
   ]
  },
  {
   "cell_type": "code",
   "execution_count": 4,
   "id": "807736c2",
   "metadata": {},
   "outputs": [],
   "source": [
    "def compare_guess(shuffled_list,user_guess):\n",
    "    d = {'a':shuffled_list[0],'b':shuffled_list[1],'c':shuffled_list[2]}\n",
    "    print(f'Picked position : {user_guess.upper()}')\n",
    "    if shuffled_list[int(d[user_guess])] == '1':\n",
    "        print('Congrats. You win!')\n",
    "    else:\n",
    "        print('Sorry, wrong guess.')\n",
    "        value=[ch for ch in d if d[ch] == '1']\n",
    "        print(f\"Correct position was {value[0].upper()}\")"
   ]
  },
  {
   "cell_type": "code",
   "execution_count": 5,
   "id": "78040c9a",
   "metadata": {},
   "outputs": [],
   "source": [
    "def continue_game():\n",
    "    play_again = input('Play again? Y/N : ')\n",
    "    while play_again not in ['Y','y','N','n']:\n",
    "        clr()\n",
    "        print('Invalid input')\n",
    "        play_again = input('Play again? Y/N : ')\n",
    "    if play_again in ['Y','y']:\n",
    "        return True\n",
    "    elif play_again in ['N','n']:\n",
    "        clr()\n",
    "        print('Game ended. Thank you for playing:)')\n",
    "        return False"
   ]
  },
  {
   "cell_type": "code",
   "execution_count": null,
   "id": "b94c32ea",
   "metadata": {},
   "outputs": [
    {
     "name": "stdout",
     "output_type": "stream",
     "text": [
      "This is a guessing game.\n",
      "The ball is placed in one of the 3 positions - 0,1 or 2\n",
      "Give your guess and test you luck.\n",
      "Good luck:)\n",
      "          \n",
      "Let's play ;) \n"
     ]
    }
   ],
   "source": [
    "game_list = ['0','0','1']\n",
    "game_on = True\n",
    "\n",
    "while game_on:\n",
    "    \n",
    "    clr()\n",
    "    \n",
    "    print(\"\"\"This is a guessing game.\n",
    "The ball is placed in one of the 3 positions - 0,1 or 2\n",
    "Give your guess and test you luck.\n",
    "Good luck:)\n",
    "          \"\"\")\n",
    "    \n",
    "    print(\"Let's play ;) \")\n",
    "    \n",
    "    shuffled_list = shuffle_list(game_list)\n",
    "    \n",
    "    user_guess = user_input()\n",
    "    \n",
    "    clr()\n",
    "    \n",
    "    compare_guess(shuffled_list,user_guess)\n",
    "    \n",
    "    game_on = continue_game()"
   ]
  },
  {
   "cell_type": "code",
   "execution_count": null,
   "id": "ab82a89f",
   "metadata": {},
   "outputs": [],
   "source": []
  }
 ],
 "metadata": {
  "kernelspec": {
   "display_name": "Python 3 (ipykernel)",
   "language": "python",
   "name": "python3"
  },
  "language_info": {
   "codemirror_mode": {
    "name": "ipython",
    "version": 3
   },
   "file_extension": ".py",
   "mimetype": "text/x-python",
   "name": "python",
   "nbconvert_exporter": "python",
   "pygments_lexer": "ipython3",
   "version": "3.9.12"
  }
 },
 "nbformat": 4,
 "nbformat_minor": 5
}
